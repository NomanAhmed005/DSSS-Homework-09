{
 "cells": [
  {
   "cell_type": "code",
   "execution_count": null,
   "metadata": {
    "vscode": {
     "languageId": "plaintext"
    }
   },
   "outputs": [],
   "source": [
    "from telegram import Update\n",
    "from telegram.ext import Updater, CommandHandler, MessageHandler, Application, CallbackContext, filters\n",
    "import nest_asyncio\n",
    "\n",
    "# Apply nest_asyncio to handle async loops in Jupyter\n",
    "nest_asyncio.apply()\n",
    "\n",
    "# Replace with your bot token\n",
    "BOT_TOKEN = \"Replace with Telegram Token ID\"\n",
    "\n",
    "# Define a function to handle messages\n",
    "async def handle_message(update: Update, context: CallbackContext):\n",
    "    user_message = update.message.text\n",
    "    print(f\"Message from user: {user_message}\")  # Logs message to the notebook\n",
    "    await update.message.reply_text(f\"Bot received: {user_message}\")\n",
    "\n",
    "# Set up the bot\n",
    "async def main():\n",
    "    # Create the application\n",
    "    application = Application.builder().token(BOT_TOKEN).build()\n",
    "\n",
    "    # Add message handler\n",
    "    application.add_handler(MessageHandler(filters.TEXT & ~filters.COMMAND, handle_message))\n",
    "\n",
    "    # Start the bot\n",
    "    print(\"Bot is running...\")\n",
    "    await application.run_polling()\n",
    "\n",
    "# Start the bot\n",
    "await main()"
   ]
  }
 ],
 "metadata": {
  "language_info": {
   "name": "python"
  }
 },
 "nbformat": 4,
 "nbformat_minor": 2
}
